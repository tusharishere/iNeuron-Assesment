{
  "nbformat": 4,
  "nbformat_minor": 0,
  "metadata": {
    "colab": {
      "provenance": []
    },
    "kernelspec": {
      "name": "python3",
      "display_name": "Python 3"
    },
    "language_info": {
      "name": "python"
    }
  },
  "cells": [
    {
      "cell_type": "markdown",
      "source": [
        "# PYTHON"
      ],
      "metadata": {
        "id": "HEJMFUW21ADW"
      }
    },
    {
      "cell_type": "markdown",
      "source": [
        "## Question: 1"
      ],
      "metadata": {
        "id": "y9jPqU8foSDt"
      }
    },
    {
      "cell_type": "code",
      "source": [
        "input_dict = {\"abc\":{\"def\":{\"ghi\":{\"jkl\":{\"mno\":{\"pqr\":{\"stu\":{\"vwx\":{\"yz\":\"you are finally here !!!\"}}}}}}}}}"
      ],
      "metadata": {
        "id": "36JMB9o_gzHN"
      },
      "execution_count": null,
      "outputs": []
    },
    {
      "cell_type": "code",
      "source": [
        "def output_generate(input_dict):\n",
        "    stack = [(input_dict, [])]\n",
        "    output = {}\n",
        "\n",
        "    while stack:\n",
        "        current_dict, keys = stack.pop()\n",
        "        if isinstance(current_dict, dict):\n",
        "            for key, value in current_dict.items():\n",
        "                new_keys = keys + [key]\n",
        "                if isinstance(value, dict):\n",
        "                    stack.append((value, new_keys))\n",
        "                else:\n",
        "                    output[tuple(new_keys)] = value\n",
        "\n",
        "    result = {}\n",
        "    for key_tuple, value in output.items():\n",
        "        for i in range(len(key_tuple)):\n",
        "            sub_key = key_tuple[i]\n",
        "            if sub_key in result:\n",
        "                result[sub_key].extend(key_tuple[i+1:])\n",
        "            else:\n",
        "                result[sub_key] = list(key_tuple[i+1:])\n",
        "        result[key_tuple[-1]] = value\n",
        "\n",
        "    return result\n",
        "\n",
        "output_dict = output_generate(input_dict)\n",
        "print(output_dict)"
      ],
      "metadata": {
        "colab": {
          "base_uri": "https://localhost:8080/"
        },
        "id": "arA5dBG-g7be",
        "outputId": "d34f8006-ca55-40c0-8b82-34c4dbd579b0"
      },
      "execution_count": null,
      "outputs": [
        {
          "output_type": "stream",
          "name": "stdout",
          "text": [
            "{'abc': ['def', 'ghi', 'jkl', 'mno', 'pqr', 'stu', 'vwx', 'yz'], 'def': ['ghi', 'jkl', 'mno', 'pqr', 'stu', 'vwx', 'yz'], 'ghi': ['jkl', 'mno', 'pqr', 'stu', 'vwx', 'yz'], 'jkl': ['mno', 'pqr', 'stu', 'vwx', 'yz'], 'mno': ['pqr', 'stu', 'vwx', 'yz'], 'pqr': ['stu', 'vwx', 'yz'], 'stu': ['vwx', 'yz'], 'vwx': ['yz'], 'yz': 'you are finally here !!!'}\n"
          ]
        }
      ]
    },
    {
      "cell_type": "markdown",
      "source": [
        "## Question: 3"
      ],
      "metadata": {
        "id": "PweE3qdl0D8b"
      }
    },
    {
      "cell_type": "code",
      "source": [
        "height,width=list(map(int,input().split()))\n",
        "j=1\n",
        "for i in range(height):\n",
        "    if i<height//2 :\n",
        "      print((\".|.\"*j).center(width,\"-\"))\n",
        "      j+=2\n",
        "    elif i==height//2:\n",
        "        print(\"WELCOME\".center(width,\"-\"))\n",
        "    elif i>height//2 :\n",
        "      j-=2\n",
        "      print((\".|.\"*j).center(width,\"-\"))"
      ],
      "metadata": {
        "colab": {
          "base_uri": "https://localhost:8080/"
        },
        "id": "6GoHPAEQhBDE",
        "outputId": "bd20827d-60c6-4b71-9740-19b5d362af10"
      },
      "execution_count": null,
      "outputs": [
        {
          "output_type": "stream",
          "name": "stdout",
          "text": [
            "7 21\n",
            "---------.|.---------\n",
            "------.|..|..|.------\n",
            "---.|..|..|..|..|.---\n",
            "-------WELCOME-------\n",
            "---.|..|..|..|..|.---\n",
            "------.|..|..|.------\n",
            "---------.|.---------\n"
          ]
        }
      ]
    },
    {
      "cell_type": "markdown",
      "source": [
        "# SQL"
      ],
      "metadata": {
        "id": "FXMwf0wh1Rk6"
      }
    },
    {
      "cell_type": "markdown",
      "source": [
        "## Question:1"
      ],
      "metadata": {
        "id": "iNpDaXkU2rPo"
      }
    },
    {
      "cell_type": "markdown",
      "source": [
        "## Answer : This will return empty set because NOT IN condition contains any values that are null, then the outer query here will return an empty set.\n",
        "\n",
        "### The optimised SQL query will be like below\n",
        "### SELECT *\n",
        "### FROM runners\n",
        "### WHERE id\n",
        "### NOT IN (SELECT winner_id FROM races WHERE winner_id IS NOT null)"
      ],
      "metadata": {
        "id": "QcUVxxt-2ygQ"
      }
    },
    {
      "cell_type": "markdown",
      "source": [
        "## Question:2"
      ],
      "metadata": {
        "id": "TnIL70IK6gCB"
      }
    },
    {
      "cell_type": "markdown",
      "source": [
        "### ANSWER :\n",
        "### SELECT * FROM test_a\n",
        "### EXCEPT\n",
        "### SELECT * FROM test_b;"
      ],
      "metadata": {
        "id": "TO_-57oW6ZZu"
      }
    },
    {
      "cell_type": "markdown",
      "source": [
        "## Question : 3"
      ],
      "metadata": {
        "id": "rHPv-CTh7ULF"
      }
    },
    {
      "cell_type": "markdown",
      "source": [
        "##Answer :\n",
        "### SELECT u.user_id,username,training_id,training_date,\n",
        "###      count( user_training_id ) AS count\n",
        "###  FROM users u JOIN training_details t ON t.user_id = u.user_id\n",
        "###  GROUP BY u.user_id,username,training_id,training_date\n",
        "###  HAVING count( user_training_id ) > 1\n",
        "###  ORDER BY training_date DESC;"
      ],
      "metadata": {
        "id": "7z8YtK4R7aiP"
      }
    },
    {
      "cell_type": "markdown",
      "source": [
        "## Question : 4"
      ],
      "metadata": {
        "id": "C3IID2DB88qV"
      }
    },
    {
      "cell_type": "markdown",
      "source": [
        "## Answer :\n",
        "### SELECT b.emp_id as \"Manager_Id\",b.emp_name as \"Manager\", avg(a.salary) as \"Average_Salary_Under_Manager\"\n",
        "### FROM Employee a, Employee b\n",
        "### WHERE a.manager_id = b.emp_id\n",
        "### GROUP BY b.emp_id, b.emp_name\n",
        "### ORDER BY b.emp_id;"
      ],
      "metadata": {
        "id": "DjIBXJ5H9Ajh"
      }
    },
    {
      "cell_type": "code",
      "source": [],
      "metadata": {
        "id": "KX5UWxFF2tJ6"
      },
      "execution_count": null,
      "outputs": []
    }
  ]
}